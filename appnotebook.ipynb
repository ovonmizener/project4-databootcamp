{
 "cells": [
  {
   "cell_type": "code",
   "execution_count": null,
   "id": "3b9e6deb",
   "metadata": {},
   "outputs": [],
   "source": [
    "from flask import Flask, render_template, request #render_template is used to render HTML templates\n",
    "import os\n",
    "import re\n",
    "import pickle\n",
    "from textblob import TextBlob\n",
    "\n",
    "# Initialize the Flask app.\n",
    "app = Flask(__name__)\n",
    "\n",
    "# ---------------------------\n",
    "# Pickle Explanation:\n",
    "# ---------------------------\n",
    "# The pickle module is used to serialize and deserialize Python objects.\n",
    "# Here, we're using it to load our pre-trained TF-IDF vectorizer and sentiment model\n",
    "# from disk so we don't have to rebuild or retrain the model each time the app starts."
   ]
  },
  {
   "cell_type": "code",
   "execution_count": null,
   "id": "fc498962",
   "metadata": {},
   "outputs": [],
   "source": [
    "# Load the TF-IDF vectorizer and sentiment model from the 'resources' folder.\n",
    "# The 'resources' folder should contain 'tfidf.pkl' and 'sentiment_model.pkl'."
   ]
  },
  {
   "cell_type": "code",
   "execution_count": null,
   "id": "7fc645c8",
   "metadata": {},
   "outputs": [],
   "source": [
    "# Load the pickled objects."
   ]
  },
  {
   "cell_type": "code",
   "execution_count": null,
   "id": "2c792a09",
   "metadata": {},
   "outputs": [],
   "source": []
  }
 ],
 "metadata": {
  "language_info": {
   "name": "python"
  }
 },
 "nbformat": 4,
 "nbformat_minor": 5
}
