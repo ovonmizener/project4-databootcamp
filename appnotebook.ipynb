{
 "cells": [
  {
   "cell_type": "code",
   "execution_count": 1,
   "id": "3b9e6deb",
   "metadata": {},
   "outputs": [],
   "source": [
    "from flask import Flask, render_template, request #render_template is used to render HTML templates\n",
    "import os\n",
    "import re\n",
    "import pickle\n",
    "from textblob import TextBlob\n",
    "\n",
    "# Initialize the Flask app.\n",
    "app = Flask(__name__)\n",
    "\n",
    "# ---------------------------\n",
    "# Pickle Explanation:\n",
    "# ---------------------------\n",
    "# The pickle module is used to serialize and deserialize Python objects.\n",
    "# Here, we're using it to load our pre-trained TF-IDF vectorizer and sentiment model\n",
    "# from disk so we don't have to rebuild or retrain the model each time the app starts."
   ]
  },
  {
   "cell_type": "code",
   "execution_count": null,
   "id": "fc498962",
   "metadata": {},
   "outputs": [],
   "source": [
    "# Load the TF-IDF vectorizer and sentiment model from the 'resources' folder.\n",
    "# The 'resources' folder should contain 'tfidf.pkl' and 'sentiment_model.pkl'.\n",
    "\n",
    "# Load the TF-IDF vectorizer\n",
    "with open('resources/tfidf.pkl', 'rb') as f:\n",
    "    tfidf_vectorizer = pickle.load(f)\n",
    "\n",
    "# Load the sentiment model\n",
    "with open('resources/sentiment_model.pkl', 'rb') as f:\n",
    "    sentiment_model = pickle.load(f)"
   ]
  },
  {
   "cell_type": "code",
   "execution_count": 2,
   "id": "7fc645c8",
   "metadata": {},
   "outputs": [],
   "source": [
    "# Load the pickled objects.\n",
    "with open('resources/tfidf.pkl', 'rb') as f:\n",
    "    loaded_object = pickle.load(f)\n",
    "\n",
    "with open('resources/sentiment_model.pkl', 'rb') as f:\n",
    "    loaded_object = pickle.load(f)"
   ]
  },
  {
   "cell_type": "code",
   "execution_count": null,
   "id": "2c792a09",
   "metadata": {},
   "outputs": [],
   "source": [
    "# App Route Code here \n",
    "\n",
    "@app.route(\"/\")\n",
    "def index():\n",
    "    # Render the home page.\n",
    "    return render_template(\"index.html\")\n",
    "\n",
    "# Predict App Route\n",
    "@app.route(\"/predict\", methods=[\"POST\"])\n",
    "def predict():\n",
    "    # Get the lyrics entered by the user from the form.\n",
    "    lyrics = request.form.get(\"lyrics\")\n",
    "    if not lyrics or lyrics.strip() == \"\":\n",
    "        error_msg = \"Please enter some lyrics to get a prediction.\"\n",
    "        return render_template(\"index.html\", error=error_msg)"
   ]
  }
 ],
 "metadata": {
  "kernelspec": {
   "display_name": "PythonData_2024_12",
   "language": "python",
   "name": "python3"
  },
  "language_info": {
   "codemirror_mode": {
    "name": "ipython",
    "version": 3
   },
   "file_extension": ".py",
   "mimetype": "text/x-python",
   "name": "python",
   "nbconvert_exporter": "python",
   "pygments_lexer": "ipython3",
   "version": "3.10.16"
  }
 },
 "nbformat": 4,
 "nbformat_minor": 5
}
