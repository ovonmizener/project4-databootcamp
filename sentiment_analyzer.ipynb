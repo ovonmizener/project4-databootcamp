{
 "cells": [
  {
   "cell_type": "code",
   "execution_count": null,
   "id": "5f7b1d08",
   "metadata": {},
   "outputs": [],
   "source": [
    "# --- STEP 1: Import Libraries ---\n",
    "# Load necessary libraries for data handling, text processing, visualization, and machine learning.\n",
    "import pandas as pd\n",
    "import numpy as np\n",
    "import re\n",
    "import sqlite3\n",
    "import os\n",
    "import matplotlib.pyplot as plt\n",
    "from wordcloud import WordCloud\n",
    "from textblob import TextBlob\n",
    "from sklearn.feature_extraction.text import TfidfVectorizer\n",
    "from sklearn.model_selection import train_test_split\n",
    "from sklearn.linear_model import LogisticRegression\n",
    "from sklearn.metrics import accuracy_score, classification_report, confusion_matrix"
   ]
  },
  {
   "cell_type": "code",
   "execution_count": null,
   "id": "4e94380f",
   "metadata": {},
   "outputs": [],
   "source": [
    "\n",
    "# --- STEP 2: Data Acquisition ---\n",
    "# Load the dataset from the CSV file\n",
    "data_file_path = os.path.join(\"resources\", \"spotify_millsongdata.csv\")\n",
    "df = pd.read_csv(data_file_path)\n",
    "df_processed = df.copy()  # Work with a copy to avoid modifying the original data\n",
    "\n",
    "# Backup the original CSV file\n",
    "# Not that this is necessary if the original file is not modified in the process, but I like having backups\n",
    "original_csv_backup = os.path.join(\"resources\", \"original_spotify_millsongdata.csv\")\n",
    "df.to_csv(original_csv_backup, index=False)\n",
    "\n",
    "# Store data in SQLite database\n",
    "db_path = os.path.join(\"resources\", \"music_lyrics.db\")\n",
    "conn = sqlite3.connect(db_path)\n",
    "df_processed.to_sql(\"raw_lyrics\", conn, if_exists=\"replace\", index=False)"
   ]
  },
  {
   "cell_type": "code",
   "execution_count": null,
   "id": "abed468e",
   "metadata": {},
   "outputs": [],
   "source": [
    "# --- STEP 3: Text Preprocessing ---\n",
    "# Define function to clean text\n",
    "\n",
    "\n",
    "# Apply text cleaning function to the 'text' column\n",
    "# note: lyrics are not named lyrics in the dataset \n"
   ]
  },
  {
   "cell_type": "code",
   "execution_count": null,
   "id": "1d5abc8d",
   "metadata": {},
   "outputs": [],
   "source": [
    "# --- STEP 4: Sentiment Analysis using TextBlob ---\n",
    "# Define function to compute sentiment scores\n",
    "def get_sentiment(text):\n",
    "    \"\"\"Compute sentiment polarity score using TextBlob (-1 negative to +1 positive).\"\"\"\n",
    "    return TextBlob(text).sentiment.polarity\n",
    "\n",
    "df_processed[\"sentiment_score\"] = df_processed[\"clean_text\"].apply(get_sentiment)\n",
    "\n",
    "# Save processed data\n",
    "processed_csv_path = os.path.join(\"resources\", \"processed_spotify_millsongdata.csv\")\n",
    "df_processed.to_csv(processed_csv_path, index=False)\n",
    "df_processed.to_sql(\"processed_lyrics\", conn, if_exists=\"replace\", index=False)\n",
    "\n"
   ]
  },
  {
   "cell_type": "code",
   "execution_count": null,
   "id": "f46b78b1",
   "metadata": {},
   "outputs": [],
   "source": [
    "# --- STEP 5: Sentiment Visualization ---\n",
    "# Plot distribution of sentiment scores\n",
    "# for our visualizations we need to decide what we are trying to pull from this set\n",
    "\n",
    "# Generate word cloud of lyrics\n",
    "# I kept this in for fun since I got it working, but totally useless in the context of this project\n",
    "all_text = \" \".join(df_processed[\"clean_text\"].dropna())\n",
    "wordcloud = WordCloud(width=800, height=400, background_color=\"white\").generate(all_text)\n",
    "\n",
    "plt.figure(figsize=(15, 7))\n",
    "plt.imshow(wordcloud, interpolation=\"bilinear\")\n",
    "plt.axis(\"off\")\n",
    "plt.title(\"Word Cloud of Song Lyrics\")\n",
    "wordcloud_output_path = os.path.join(\"resources\", \"wordcloud.png\")\n",
    "plt.savefig(wordcloud_output_path)\n",
    "plt.show()\n",
    "\n"
   ]
  },
  {
   "cell_type": "code",
   "execution_count": null,
   "id": "7a752f36",
   "metadata": {},
   "outputs": [],
   "source": [
    "# --- STEP 6: Sentiment Prediction Using Machine Learning ---\n",
    "# Create a binary sentiment label (1 = positive/neutral, 0 = negative)\n",
    "df_processed[\"sentiment_label\"] = df_processed[\"sentiment_score\"].apply(lambda x: 1 if x >= 0 else 0)\n",
    "\n",
    "# Extract text features using TF-IDF\n",
    "tfidf = TfidfVectorizer(max_features=5000, stop_words='english')\n",
    "X = tfidf.fit_transform(df_processed[\"clean_text\"])\n",
    "y = df_processed[\"sentiment_label\"]\n",
    "\n",
    "# Split data into training/testing sets\n",
    "X_train, X_test, y_train, y_test = train_test_split(X, y, test_size=0.2, random_state=42)\n",
    "\n",
    "# Train Logistic Regression classifier\n",
    "model = LogisticRegression(max_iter=1000, random_state=42)\n",
    "model.fit(X_train, y_train)\n",
    "\n",
    "# Evaluate the model\n",
    "y_pred = model.predict(X_test)\n",
    "print(\"Accuracy on test set:\", accuracy_score(y_test, y_pred))\n",
    "print(\"Classification Report:\\n\", classification_report(y_test, y_pred))\n",
    "print(\"Confusion Matrix:\\n\", confusion_matrix(y_test, y_pred))\n",
    "\n",
    "# the above is untested but should work\n"
   ]
  },
  {
   "cell_type": "code",
   "execution_count": null,
   "id": "9c4dfe30",
   "metadata": {},
   "outputs": [],
   "source": [
    "\n",
    "# --- STEP 7: Close Database Connection ---\n",
    "conn.close()\n",
    "print(\"SQL connection closed.\")"
   ]
  }
 ],
 "metadata": {
  "language_info": {
   "name": "python"
  }
 },
 "nbformat": 4,
 "nbformat_minor": 5
}
